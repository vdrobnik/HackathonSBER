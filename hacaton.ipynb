{
 "cells": [
  {
   "cell_type": "code",
   "execution_count": 1,
   "id": "8e704ce3-5ebb-47c6-8588-5a9d105977e4",
   "metadata": {},
   "outputs": [],
   "source": [
    "# RAG (Retrieval Augmented Generation) — это метод работы с большими\n",
    "# языковыми моделями, когда пользователь пишет свой вопросы, а программно к этому\n",
    "# вопросу «подмешивается» дополнительная информация из каких-то внешних\n",
    "# источников и подается все целиком на вход языковой модели. Другими словами,\n",
    "# добавляется в контекст запроса к языковой модели дополнительная информация, на\n",
    "# основе которой языковая модель может дать пользователю более полный и точный\n",
    "# ответ. По сути три компоненты: Retrieval, Augmented, Generation\n",
    "CLIENT_AUTH = ''"
   ]
  },
  {
   "cell_type": "code",
   "execution_count": 40,
   "id": "c59db166-bea1-44cd-90c2-91ab499e943e",
   "metadata": {},
   "outputs": [
    {
     "name": "stdout",
     "output_type": "stream",
     "text": [
      "Requirement already satisfied: langchain_text_splitters in c:\\users\\dan_p\\anaconda\\lib\\site-packages (0.3.0)\n",
      "Requirement already satisfied: langchain_community in c:\\users\\dan_p\\anaconda\\lib\\site-packages (0.3.3)\n",
      "Requirement already satisfied: chroma in c:\\users\\dan_p\\anaconda\\lib\\site-packages (0.2.0)\n",
      "Requirement already satisfied: gigachat in c:\\users\\dan_p\\anaconda\\lib\\site-packages (0.1.35)\n",
      "Requirement already satisfied: langchain in c:\\users\\dan_p\\anaconda\\lib\\site-packages (0.3.4)\n",
      "Requirement already satisfied: chromadb in c:\\users\\dan_p\\anaconda\\lib\\site-packages (0.5.15)\n",
      "Requirement already satisfied: pypdf in c:\\users\\dan_p\\anaconda\\lib\\site-packages (5.0.1)\n",
      "Note: you may need to restart the kernel to use updated packages.\n"
     ]
    },
    {
     "name": "stderr",
     "output_type": "stream",
     "text": [
      "ERROR: Could not find a version that satisfies the requirement re (from versions: none)\n",
      "ERROR: No matching distribution found for re\n"
     ]
    }
   ],
   "source": [
    "pip install langchain_text_splitters langchain_community chroma gigachat langchain chromadb pypdf"
   ]
  },
  {
   "cell_type": "code",
   "execution_count": 28,
   "id": "466f8971-70f8-4bb8-942d-92a8070e6d69",
   "metadata": {},
   "outputs": [],
   "source": [
    "# Начнем с Retrieval:\n",
    "# Чтобы сформировать векторную базу данных (Chroma/FAISS) необходимы документы с данными, которые мы векторизуем, \n",
    "# с помощью функции встраивания (embbeding)\n",
    "\n",
    "from langchain_community.embeddings.gigachat import GigaChatEmbeddings\n",
    "\n",
    "embedding = GigaChatEmbeddings(\n",
    "    credentials=CLIENT_AUTH, \n",
    "    scope=\"GIGACHAT_API_PERS\",\n",
    "    verify_ssl_certs=False\n",
    ")"
   ]
  },
  {
   "cell_type": "code",
   "execution_count": 29,
   "id": "f7d77d88-a661-459d-87c6-ee7cbfea86c9",
   "metadata": {},
   "outputs": [],
   "source": [
    "# Необходимо обработать данные, а именно выбрать их формат, разделить на чанки и загрузить в векторную базу данных Chroma\n",
    "# Делим документы на чанки:\n",
    "from langchain_text_splitters import RecursiveCharacterTextSplitter\n",
    "from langchain.schema import Document\n",
    "\n",
    "def split_docs(documents: list[Document]):\n",
    "    text_splitter = RecursiveCharacterTextSplitter(\n",
    "        chunk_size=650,\n",
    "        chunk_overlap=150,\n",
    "        length_function=len,\n",
    "        is_separator_regex=False\n",
    "    )\n",
    "    return text_splitter.split_documents(documents)"
   ]
  },
  {
   "cell_type": "code",
   "execution_count": 30,
   "id": "7df32b9b-0010-4e56-b4aa-90f1786b4497",
   "metadata": {},
   "outputs": [],
   "source": [
    "# Необходимо выбрать загрузчик документов (PDF, DOXC), загрузка происходит из папки /data\n",
    "from langchain_community.document_loaders import WebBaseLoader\n",
    "from langchain_community.document_loaders import PyPDFDirectoryLoader\n",
    "\n",
    "def PDFload_docs():\n",
    "    documents_loader = PyPDFDirectoryLoader('data/')\n",
    "    return documents_loader.load()\n",
    "\n",
    "# Можно использовать WebBaseLoader для загрузки из ссылок"
   ]
  },
  {
   "cell_type": "code",
   "execution_count": 31,
   "id": "30c37e67-903a-4ad0-8fe4-2c9481656f0c",
   "metadata": {},
   "outputs": [],
   "source": [
    "#  Определяем векторную БД, в нашем случае Chroma \n",
    "from langchain_community.vectorstores.chroma import Chroma\n",
    "\n",
    "CHROMA_PATH = 'chroma'\n",
    "\n",
    "db = Chroma(\n",
    "        persist_directory=CHROMA_PATH,\n",
    "        embedding_function=embedding,\n",
    "        collection_metadata={\"hnsw:space\": \"cosine\"}\n",
    "        )"
   ]
  },
  {
   "cell_type": "code",
   "execution_count": 32,
   "id": "ed600075-fadc-4ee1-a9cf-1048fa013916",
   "metadata": {},
   "outputs": [],
   "source": [
    "# Функция расчета id чанка\n",
    "from typing import List\n",
    "\n",
    "def calculate_chunk_ids(chunks):\n",
    "    # Формат: \"data/Adobe....pdf:6:2\"\n",
    "    # Page Source : Page Number : Chunk Index\n",
    "    last_page_id = None\n",
    "    current_chunk_index = 0\n",
    "    for chunk in chunks:\n",
    "        source = chunk.metadata.get(\"source\")\n",
    "        page = chunk.metadata.get(\"page\")\n",
    "        current_page_id = f\"{source}:{page}\"\n",
    "    # Если идентификатор страницы совпадает с предыдущим, увеличьте индекс.\n",
    "        if current_page_id == last_page_id:\n",
    "            current_chunk_index += 1\n",
    "        else:\n",
    "            current_chunk_index = 0\n",
    "        # Вычисление id для чанка\n",
    "        chunk_id = f\"{current_page_id}:{current_chunk_index}\"\n",
    "        last_page_id = current_page_id\n",
    "        # Добавьте его в метаданные страницы.\n",
    "        chunk.metadata[\"id\"] = chunk_id\n",
    "    return chunks\n",
    "\n",
    " # Функция добавления чанков в Chroma \n",
    "\n",
    "def add_to_chroma(chunks: List[Document]):\n",
    "    # embedding = get_embedding_func()\n",
    "    db = Chroma(\n",
    "        persist_directory=CHROMA_PATH,\n",
    "        embedding_function=embedding,\n",
    "        collection_metadata={\"hnsw:space\": \"cosine\"}\n",
    "        )\n",
    "    # Вычисляем идентификаторы для каждого чанка (части документа).\n",
    "    chunks_with_ids = calculate_chunk_ids(chunks)\n",
    "\n",
    "    # Получаем существующие документы из базы данных.\n",
    "    existing_items = db.get(\n",
    "        include=[])  # Получаем только идентификаторы документов, так как они всегда включены по умолчанию\n",
    "    existing_ids = set(existing_items[\"ids\"])  # Преобразуем список идентификаторов в множество для быстрого поиска\n",
    "    print(f\"Number of existing documents in DB: {len(existing_ids)}\")\n",
    "\n",
    "    # Отбираем только те документы, которых еще нет в базе данных.\n",
    "    new_chunks = []\n",
    "    for chunk in chunks_with_ids:\n",
    "        if chunk.metadata[\"id\"] not in existing_ids:\n",
    "            new_chunks.append(chunk)\n",
    "\n",
    "    if len(new_chunks):\n",
    "        print(f\"👉 ^_^ Adding new documents: {len(new_chunks)}\")\n",
    "        new_chunk_ids = [chunk.metadata[\"id\"] for chunk in new_chunks]\n",
    "\n",
    "        # Обрабатываем документы пакетами по 166 штук для оптимизации производительности.\n",
    "        batch_size = 166\n",
    "        for i in range(0, len(new_chunks), batch_size):\n",
    "            batch_chunks = new_chunks[i:i + batch_size]\n",
    "            batch_ids = new_chunk_ids[i:i + batch_size]\n",
    "            db.add_documents(batch_chunks,\n",
    "                             ids=batch_ids)  # Добавляем пакет документов в базу данных с указанием их идентификаторов\n",
    "\n",
    "        db.persist()  # Сохраняем изменения в базе данных на диск\n",
    "    else:\n",
    "        print(\"✅ No new documents to add\")"
   ]
  },
  {
   "cell_type": "code",
   "execution_count": 33,
   "id": "52dbef23-fe16-46ae-874e-9c53015b1f8d",
   "metadata": {},
   "outputs": [
    {
     "name": "stdout",
     "output_type": "stream",
     "text": [
      "Number of existing documents in DB: 0\n",
      "👉 ^_^ Adding new documents: 8\n"
     ]
    },
    {
     "name": "stderr",
     "output_type": "stream",
     "text": [
      "C:\\Users\\dan_p\\AppData\\Local\\Temp\\ipykernel_37708\\1912922927.py:61: LangChainDeprecationWarning: Since Chroma 0.4.x the manual persistence method is no longer supported as docs are automatically persisted.\n",
      "  db.persist()  # Сохраняем изменения в базе данных на диск\n"
     ]
    }
   ],
   "source": [
    "# Опишем процесс создания БД\n",
    "documents = PDFload_docs()\n",
    "chunks = split_docs(documents)\n",
    "add_to_chroma(chunks)"
   ]
  },
  {
   "cell_type": "code",
   "execution_count": 34,
   "id": "3aaf7959-5818-498b-918a-b692a0ff5424",
   "metadata": {},
   "outputs": [],
   "source": [
    "# Имеем следующий промпт:\n",
    "PROMPT_TEMPLATE = \"\"\"\n",
    "Ответьте на вопрос, основываясь только на следующем контексте:\n",
    "\n",
    "{context}\n",
    "\n",
    "---\n",
    "\n",
    "Ответьте на вопрос, базируясь только на приведенном выше контексте: {question}\n",
    "\n",
    "Если в контексте нет ответа на вопрос, то ответь, что не знаешь о чем идет речь.\n",
    "В ответе не используй слово контекст.\n",
    "\"\"\""
   ]
  },
  {
   "cell_type": "code",
   "execution_count": 38,
   "id": "0b4f7b1d-9067-48e2-88ea-0cbb5f8c681b",
   "metadata": {},
   "outputs": [],
   "source": [
    "# Напиши вопрос пользователя к ai-помощнику:\n",
    "query_text = 'Какие способы автомотизировать бизнес'"
   ]
  },
  {
   "cell_type": "code",
   "execution_count": 43,
   "id": "ad2def6f-76fb-4328-a510-e6903f9590a0",
   "metadata": {},
   "outputs": [
    {
     "name": "stdout",
     "output_type": "stream",
     "text": [
      "Human: \n",
      "Ответьте на вопрос, основываясь только на следующем контексте:\n",
      "\n",
      "•География — предпочтительно по городам и между городами РФ.\n",
      "•Основной транспорт — малотоннажные, среднетоннажные и крупнотоннажные \n",
      "грузовики.\n",
      "•Деятельность соответствует ОКВЭД 49.4 «Деятельность автомобильного грузового \n",
      "транспорта и услуги по перевозкам».\n",
      "Рассмотрим клиента, который крутит баранку уже 25 лет, а 10 лет назад открыл свою \n",
      "транспортную компанию «Гудок».\n",
      "Какие есть способы автомотизировать бизнес:\n",
      "Как это работает сейчас: все данные по заказам клиента записывает в тетрадь.\n",
      "Что предлагаем мы: база заказов, водителей и транспортных средств доступна онлайн. Кроме\n",
      "---\n",
      "будет формироваться персональная аналитика по эффективности работы автопарка и \n",
      "оплаченным заказам.\n",
      "Автоматизировать бизнес будет не так сложно, если обратится за помощью к нам, ведь у нас \n",
      "есть готовое решение —« СберБизнес. Транспорт» .\n",
      "«СберБизнес. Транспорт»  доступен в 3 форматах:\n",
      "Веб-версия для владельца\n",
      "•Аналитика по доходам и заказам\n",
      "•Аналитика по количеству клиентов, их отрасли и географии, а также объёмам выручки\n",
      "в сравнении с конкурентами\n",
      "•Актуальные статусы по оплате счетов и задолженностям\n",
      "•База ТС и водителей с возможностью назначать на них заказы\n",
      "•Учёт расходов на содержание автопарка\n",
      "---\n",
      "Наше отраслевое решение позволит клиенту:\n",
      "•Иметь все данные по своему бизнесу под рукой 24/7\n",
      "•Автоматизировать рутинные процессы и формировать первичные документы  в 1 клик\n",
      "•Быстро и удобно передавать водителям информацию по заказам\n",
      "•Анализировать эффективность работы автопарка и сравнивать свою работу с \n",
      "конкурентами\n",
      "•Экономить за счёт спецпредложений внутри отраслевого решения\n",
      "\n",
      "---\n",
      "\n",
      "Ответьте на вопрос, базируясь только на приведенном выше контексте: Какие способы автомотизировать бизнес\n",
      "\n",
      "Если в контексте нет ответа на вопрос, то ответь, что не знаешь о чем идет речь.\n",
      "В ответе не используй слово контекст.\n",
      "\n"
     ]
    }
   ],
   "source": [
    "# Когда мы загрузили данные в векторную бд, определив, как показано выше. Достаем из бд 5 наиболее релевантных чанка, с помощью:\n",
    "from langchain.prompts import ChatPromptTemplate\n",
    "\n",
    "db = Chroma(\n",
    "        persist_directory=CHROMA_PATH,\n",
    "        embedding_function=embedding,\n",
    "        collection_metadata={\"hnsw:space\": \"cosine\"}\n",
    "    )\n",
    "\n",
    "results = db.similarity_search_with_relevance_scores(query_text, k=3)\n",
    "\n",
    "# Далее уже используем промпт выше для подмешивания контекста \n",
    "context_text = \"\\n---\\n\".join([doc.page_content for doc, _score in results])\n",
    "prompt_template = ChatPromptTemplate.from_template(PROMPT_TEMPLATE)\n",
    "prompt = prompt_template.format(context=context_text, question=query_text)\n",
    "\n",
    "print(prompt)"
   ]
  },
  {
   "cell_type": "code",
   "execution_count": 47,
   "id": "9412a301-65c9-4bf0-b869-6079d3740ebd",
   "metadata": {},
   "outputs": [],
   "source": [
    "from langchain_community.chat_models import GigaChat\n",
    "# Берем модель, засовываем в нее промпт и invoke()\n",
    "# Теперь вы умеете писать ai-помощника\n",
    "messages = []\n",
    "\n",
    "model = GigaChat(\n",
    "        credentials=CLIENT_AUTH,\n",
    "        # scope=\"GIGACHAT_API_PERS\",\n",
    "        model=\"GigaChat\",\n",
    "        verify_ssl_certs=False\n",
    "    )\n",
    "\n",
    "messages.append({\"role\": \"user\", \"content\": prompt})\n",
    "response_text = model.invoke(messages)"
   ]
  },
  {
   "cell_type": "code",
   "execution_count": 48,
   "id": "59ed20f7-0e25-4e25-9e23-e19e2ca85107",
   "metadata": {},
   "outputs": [
    {
     "name": "stdout",
     "output_type": "stream",
     "text": [
      "content='Клиент может автоматизировать свой бизнес, используя систему \"СберБизнес. Транспорт\". Эта система предоставляет веб-версию для владельца, которая включает аналитику по доходам и заказам, актуальные статусы по оплате счетов и задолженностям, базу данных транспортных средств и водителей, а также учет расходов на содержание автопарка. Она позволяет владельцу бизнеса иметь все данные под рукой 24/7, автоматизировать рутинные процессы и формировать первичные документы в один клик. Также система предоставляет возможность быстро и удобно передавать водителям информацию по заказам, анализировать эффективность работы автопарка и сравнивать ее с конкурентами, а также экономить за счет специальных предложений внутри отраслевого решения.' additional_kwargs={} response_metadata={'token_usage': Usage(prompt_tokens=546, completion_tokens=158, total_tokens=704), 'model_name': 'GigaChat:1.0.26.15', 'finish_reason': 'stop'} id='run-dc5a6d1d-fc13-483a-8c84-01935a73a3f5-0'\n"
     ]
    }
   ],
   "source": [
    "print(response_text)"
   ]
  },
  {
   "cell_type": "code",
   "execution_count": null,
   "id": "0c8d3752-cd91-4363-bdfd-b0f3b1d8a7c0",
   "metadata": {},
   "outputs": [],
   "source": []
  }
 ],
 "metadata": {
  "kernelspec": {
   "display_name": "Python 3 (ipykernel)",
   "language": "python",
   "name": "python3"
  },
  "language_info": {
   "codemirror_mode": {
    "name": "ipython",
    "version": 3
   },
   "file_extension": ".py",
   "mimetype": "text/x-python",
   "name": "python",
   "nbconvert_exporter": "python",
   "pygments_lexer": "ipython3",
   "version": "3.11.7"
  }
 },
 "nbformat": 4,
 "nbformat_minor": 5
}
